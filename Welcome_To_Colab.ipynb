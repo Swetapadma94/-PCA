{
  "cells": [
    {
      "cell_type": "markdown",
      "metadata": {
        "id": "view-in-github",
        "colab_type": "text"
      },
      "source": [
        "<a href=\"https://colab.research.google.com/github/Swetapadma94/-PCA/blob/master/Welcome_To_Colab.ipynb\" target=\"_parent\"><img src=\"https://colab.research.google.com/assets/colab-badge.svg\" alt=\"Open In Colab\"/></a>"
      ]
    },
    {
      "cell_type": "code",
      "source": [
        "n=5;\n",
        "for i in range(n):\n",
        "  for j in range(i):\n",
        "      print('* ',end='')\n",
        "  print(' ')\n",
        "for i in range(n,0,-1):\n",
        "  for j in range(i):\n",
        "      print('* ',end='')\n",
        "  print(' ')\n",
        ""
      ],
      "metadata": {
        "colab": {
          "base_uri": "https://localhost:8080/"
        },
        "id": "MDFW8zyvTUHg",
        "outputId": "2325d171-c891-44ab-e9df-c7a457215a16"
      },
      "execution_count": 1,
      "outputs": [
        {
          "output_type": "stream",
          "name": "stdout",
          "text": [
            " \n",
            "*  \n",
            "* *  \n",
            "* * *  \n",
            "* * * *  \n",
            "* * * * *  \n",
            "* * * *  \n",
            "* * *  \n",
            "* *  \n",
            "*  \n"
          ]
        }
      ]
    },
    {
      "cell_type": "code",
      "source": [
        "def fact(n):\n",
        "  if n ==1:\n",
        "    return n\n",
        "  else:\n",
        "    return n * fact(n-1)\n",
        "\n",
        "n=34\n",
        "print(fact(n))"
      ],
      "metadata": {
        "colab": {
          "base_uri": "https://localhost:8080/"
        },
        "id": "M2yWOb_3TVXn",
        "outputId": "8cb8101a-7828-4c00-e476-27965ca8bf51"
      },
      "execution_count": 10,
      "outputs": [
        {
          "output_type": "stream",
          "name": "stdout",
          "text": [
            "295232799039604140847618609643520000000\n"
          ]
        }
      ]
    },
    {
      "cell_type": "code",
      "source": [
        "##String is palindrome or not\n",
        "def palindrome(s):\n",
        "  rev=''.join(reversed(s))\n",
        "  if (s == rev):\n",
        "    return True\n",
        "  else:\n",
        "    return False\n",
        "s=\"Random\"\n",
        "print(palindrome(s))\n",
        ""
      ],
      "metadata": {
        "colab": {
          "base_uri": "https://localhost:8080/"
        },
        "id": "z_1eOweJTpA9",
        "outputId": "3e7b0b18-a01f-452d-8110-2f37551f8489"
      },
      "execution_count": 14,
      "outputs": [
        {
          "output_type": "stream",
          "name": "stdout",
          "text": [
            "False\n"
          ]
        }
      ]
    },
    {
      "cell_type": "code",
      "source": [],
      "metadata": {
        "id": "csDj6MA3d0DP"
      },
      "execution_count": null,
      "outputs": []
    },
    {
      "cell_type": "code",
      "source": [
        "def is_palindrome(s):\n",
        "    return s == s[::-1]\n",
        "\n",
        "def is_symmetrical(s):\n",
        "    length = len(s)\n",
        "    mid = length // 2\n",
        "    if length % 2 == 0:\n",
        "        return s[:mid] == s[mid:]\n",
        "    else:\n",
        "        return s[:mid] == s[mid+1:]\n",
        "string = \"amaama\"\n",
        "if is_symmetrical(string):\n",
        "    print(\"The entered string is symmetrical\")\n",
        "else:\n",
        "    print(\"The entered string is not symmetrical\")\n",
        "\n",
        "if is_palindrome(string):\n",
        "    print(\"The entered string is palindrome\")\n",
        "else:\n",
        "    print(\"The entered string is not palindrome\")\n"
      ],
      "metadata": {
        "colab": {
          "base_uri": "https://localhost:8080/"
        },
        "id": "EjbiGruGVJY3",
        "outputId": "089623dc-37bb-43c7-aad9-98c6d472e140"
      },
      "execution_count": 18,
      "outputs": [
        {
          "output_type": "stream",
          "name": "stdout",
          "text": [
            "The entered string is symmetrical\n",
            "The entered string is palindrome\n"
          ]
        }
      ]
    },
    {
      "cell_type": "code",
      "source": [
        "\n",
        "\n",
        "# Function to reverse words of string\n",
        "\n",
        "def rev_sentence(sentence):\n",
        "\n",
        "    # first split the string into words\n",
        "    words = sentence.split(' ')\n",
        "\n",
        "    # then reverse the split string list and join using space\n",
        "    reverse_sentence = ' '.join(reversed(words))\n",
        "\n",
        "    # finally return the joined string\n",
        "    return reverse_sentence\n",
        "\n",
        "if __name__ == \"__main__\":\n",
        "    input = 'geeks quiz practice code'\n",
        "    print (rev_sentence(input))"
      ],
      "metadata": {
        "colab": {
          "base_uri": "https://localhost:8080/"
        },
        "id": "l3wdwUydYiJD",
        "outputId": "4cbc8746-5284-4430-a5d9-86d71d97327f"
      },
      "execution_count": 24,
      "outputs": [
        {
          "output_type": "stream",
          "name": "stdout",
          "text": [
            "code practice quiz geeks\n"
          ]
        }
      ]
    },
    {
      "cell_type": "code",
      "source": [
        "def reverse_str(string):\n",
        "  words=string.split(' ')\n",
        "  reverse=''.join(reversed(words))\n",
        "  return reverse\n",
        "s=\"geeks quiz practice code\"\n",
        "print(reverse_str(s))"
      ],
      "metadata": {
        "colab": {
          "base_uri": "https://localhost:8080/"
        },
        "id": "PloqQuUSZMCy",
        "outputId": "51d9be4c-8e25-40d9-89a6-68a8265ceda9"
      },
      "execution_count": 26,
      "outputs": [
        {
          "output_type": "stream",
          "name": "stdout",
          "text": [
            "codepracticequizgeeks\n"
          ]
        }
      ]
    },
    {
      "cell_type": "code",
      "source": [
        "def frequency(str):\n",
        "  dict={}\n",
        "  for i in str:\n",
        "   keys=dict.keys()\n",
        "   if i in keys:\n",
        "     dict[i]+=1\n",
        "   else:\n",
        "      dict[i]=1\n",
        "  return dict\n",
        "\n",
        "string=\"deferrtrrfgdsfuujnniokkmasmmsdrtre\"\n",
        "print(frequency(string))\n",
        "\n",
        "\n",
        "\n",
        "\n",
        "\n"
      ],
      "metadata": {
        "colab": {
          "base_uri": "https://localhost:8080/"
        },
        "id": "uBGc9oqjaBps",
        "outputId": "630d7581-7981-4fb6-d5a5-40e5afa5b0d4"
      },
      "execution_count": 28,
      "outputs": [
        {
          "output_type": "stream",
          "name": "stdout",
          "text": [
            "{'d': 3, 'e': 3, 'f': 3, 'r': 6, 't': 2, 'g': 1, 's': 3, 'u': 2, 'j': 1, 'n': 2, 'i': 1, 'o': 1, 'k': 2, 'm': 3, 'a': 1}\n"
          ]
        }
      ]
    },
    {
      "cell_type": "code",
      "source": [],
      "metadata": {
        "id": "NdDguicOdI3C"
      },
      "execution_count": null,
      "outputs": []
    }
  ],
  "metadata": {
    "colab": {
      "name": "Welcome To Colab",
      "toc_visible": true,
      "provenance": [],
      "include_colab_link": true
    },
    "kernelspec": {
      "display_name": "Python 3",
      "name": "python3"
    }
  },
  "nbformat": 4,
  "nbformat_minor": 0
}